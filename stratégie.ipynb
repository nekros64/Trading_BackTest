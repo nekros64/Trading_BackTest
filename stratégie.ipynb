{
 "cells": [
  {
   "cell_type": "code",
   "execution_count": 131,
   "metadata": {},
   "outputs": [],
   "source": [
    "import pandas as pd\n",
    "import plotly.graph_objects as go\n",
    "import numpy as np\n",
    "\n",
    "\n",
    "df = pd.read_csv(\"EURUSD_Candlestick_1_Hour_BID_04.05.2003-15.04.2023.csv\")\n",
    "df=df[df['volume']!=0]\n",
    "df.reset_index(drop=True, inplace=True)\n"
   ]
  },
  {
   "cell_type": "code",
   "execution_count": 132,
   "metadata": {},
   "outputs": [],
   "source": [
    "df=df[0:5000]\n",
    "backcandles = 15\n",
    "\n",
    "\n",
    "def isPivot(candle, window):\n",
    "    \"\"\"\n",
    "    function that detects if a candle is a pivot/fractal point\n",
    "    args: candle index, window before and after candle to test if pivot\n",
    "    returns: 1 if pivot high, 2 if pivot low, 3 if both and 0 default\n",
    "    \"\"\"\n",
    "    if candle-window < 0 or candle+window >= len(df):\n",
    "        return 0\n",
    "    \n",
    "    pivotHigh = 1\n",
    "    pivotLow = 2\n",
    "    for i in range(candle-window, candle+window+1):\n",
    "        if df.iloc[candle].low > df.iloc[i].low:\n",
    "            pivotLow=0\n",
    "        if df.iloc[candle].high < df.iloc[i].high:\n",
    "            pivotHigh=0\n",
    "    if (pivotHigh and pivotLow):\n",
    "        return 3\n",
    "    elif pivotHigh:\n",
    "        return pivotHigh\n",
    "    elif pivotLow:\n",
    "        return pivotLow\n",
    "    else:\n",
    "        return 0"
   ]
  },
  {
   "cell_type": "code",
   "execution_count": 133,
   "metadata": {},
   "outputs": [],
   "source": [
    "window=5\n",
    "df['isPivot'] = df.apply(lambda x: isPivot(x.name,window), axis=1)"
   ]
  },
  {
   "cell_type": "code",
   "execution_count": 134,
   "metadata": {},
   "outputs": [
    {
     "data": {
      "application/vnd.plotly.v1+json": {
       "config": {
        "plotlyServerURL": "https://plot.ly"
       },
       "data": [
        {
         "close": [
          1.17131,
          1.17105,
          1.17065,
          1.16839,
          1.1675,
          1.17281,
          1.16957,
          1.17043,
          1.16992,
          1.16949,
          1.16696,
          1.16716,
          1.1635,
          1.1638,
          1.16404,
          1.16525,
          1.16429,
          1.16269,
          1.16328,
          1.16422,
          1.16454,
          1.16386,
          1.16325,
          1.16438,
          1.16691,
          1.16754,
          1.16933,
          1.17147,
          1.1712,
          1.16877,
          1.16799,
          1.16966,
          1.16875,
          1.16988,
          1.16962,
          1.16908,
          1.16991,
          1.16901,
          1.16908,
          1.16786,
          1.16696,
          1.1682,
          1.16804,
          1.16768,
          1.16737,
          1.16766,
          1.1685,
          1.17111,
          1.17845,
          1.17928,
          1.17878,
          1.17885,
          1.17782,
          1.17813,
          1.17818,
          1.17803,
          1.17985,
          1.1827,
          1.18304,
          1.18236,
          1.18243,
          1.18268,
          1.18177,
          1.18123,
          1.18102,
          1.18128,
          1.18118,
          1.18174,
          1.18201,
          1.18192,
          1.18085,
          1.18053,
          1.18075,
          1.18135,
          1.18099,
          1.1809,
          1.18126,
          1.18419,
          1.18617,
          1.18598,
          1.18681,
          1.18667,
          1.18711,
          1.1866,
          1.18692,
          1.18574,
          1.18567,
          1.18604,
          1.18878,
          1.18795,
          1.18841,
          1.18867,
          1.18441,
          1.18331,
          1.18657,
          1.18787,
          1.18977,
          1.19023,
          1.19074,
          1.1895,
          1.19006,
          1.19057,
          1.18706,
          1.1852,
          1.1866,
          1.18666,
          1.18565,
          1.18258,
          1.18076,
          1.18119,
          1.18102,
          1.181,
          1.18166,
          1.18258,
          1.18266,
          1.18318,
          1.18405,
          1.18396,
          1.18202,
          1.17675,
          1.17858,
          1.17776,
          1.17297,
          1.1718,
          1.17506,
          1.17471,
          1.17414,
          1.17413,
          1.17618,
          1.17587,
          1.17597,
          1.17619,
          1.17629,
          1.1751,
          1.17516,
          1.17524,
          1.17634,
          1.17406,
          1.17354,
          1.17419,
          1.17463,
          1.1759,
          1.1743,
          1.1702,
          1.17058,
          1.17074,
          1.17408,
          1.17586,
          1.17577,
          1.17659
         ],
         "high": [
          1.17229,
          1.17191,
          1.17183,
          1.17095,
          1.16898,
          1.17395,
          1.17311,
          1.17086,
          1.17174,
          1.17029,
          1.16973,
          1.16824,
          1.16803,
          1.1652,
          1.16478,
          1.16561,
          1.16575,
          1.16447,
          1.16391,
          1.16478,
          1.16525,
          1.16529,
          1.16456,
          1.16538,
          1.16781,
          1.16794,
          1.17128,
          1.17166,
          1.17266,
          1.17184,
          1.17089,
          1.17074,
          1.17133,
          1.17223,
          1.17046,
          1.16978,
          1.17038,
          1.17004,
          1.16992,
          1.16979,
          1.168,
          1.16895,
          1.16921,
          1.16812,
          1.16801,
          1.16801,
          1.16902,
          1.17164,
          1.17869,
          1.18079,
          1.18063,
          1.18056,
          1.17977,
          1.17889,
          1.17938,
          1.1788,
          1.18165,
          1.18314,
          1.18363,
          1.18347,
          1.18296,
          1.18332,
          1.18282,
          1.18211,
          1.18165,
          1.18162,
          1.18206,
          1.18193,
          1.1827,
          1.18272,
          1.18207,
          1.1812,
          1.18211,
          1.18223,
          1.18188,
          1.18155,
          1.18151,
          1.18491,
          1.18656,
          1.18677,
          1.18722,
          1.18701,
          1.18721,
          1.18744,
          1.18705,
          1.18742,
          1.18607,
          1.18631,
          1.18962,
          1.18979,
          1.18882,
          1.18933,
          1.19067,
          1.18535,
          1.18703,
          1.18985,
          1.19031,
          1.19113,
          1.19223,
          1.19127,
          1.19025,
          1.19168,
          1.19286,
          1.18735,
          1.18716,
          1.1875,
          1.18708,
          1.18572,
          1.18266,
          1.1818,
          1.18138,
          1.1825,
          1.18189,
          1.18289,
          1.18324,
          1.18412,
          1.18439,
          1.18423,
          1.18397,
          1.18353,
          1.17925,
          1.17967,
          1.17778,
          1.17346,
          1.17599,
          1.17576,
          1.17749,
          1.17574,
          1.17654,
          1.1779,
          1.17691,
          1.17627,
          1.17693,
          1.17661,
          1.17545,
          1.17591,
          1.17689,
          1.17667,
          1.1746,
          1.1752,
          1.17557,
          1.17682,
          1.17623,
          1.17516,
          1.17267,
          1.17181,
          1.17583,
          1.17768,
          1.1769,
          1.1789
         ],
         "low": [
          1.17012,
          1.17039,
          1.16971,
          1.16738,
          1.1661,
          1.16673,
          1.1676,
          1.16829,
          1.1696,
          1.16874,
          1.16651,
          1.16658,
          1.16349,
          1.16226,
          1.16275,
          1.16417,
          1.16372,
          1.16226,
          1.16227,
          1.16316,
          1.16397,
          1.16327,
          1.16181,
          1.16308,
          1.16482,
          1.16626,
          1.16739,
          1.16863,
          1.1705,
          1.16779,
          1.16705,
          1.16738,
          1.16835,
          1.1683,
          1.16904,
          1.16847,
          1.16789,
          1.16866,
          1.16894,
          1.16731,
          1.16638,
          1.16684,
          1.16746,
          1.16735,
          1.16682,
          1.16635,
          1.16658,
          1.1681,
          1.17134,
          1.17835,
          1.17806,
          1.17792,
          1.17743,
          1.177,
          1.17682,
          1.17675,
          1.17831,
          1.17969,
          1.18211,
          1.18209,
          1.18168,
          1.18224,
          1.18144,
          1.18082,
          1.18035,
          1.18047,
          1.18067,
          1.18083,
          1.18147,
          1.18109,
          1.18054,
          1.17955,
          1.18041,
          1.18074,
          1.1805,
          1.18043,
          1.18052,
          1.18059,
          1.18287,
          1.18478,
          1.18557,
          1.18612,
          1.18646,
          1.18646,
          1.186,
          1.18565,
          1.18507,
          1.1844,
          1.18613,
          1.18785,
          1.18763,
          1.18798,
          1.18416,
          1.18166,
          1.18217,
          1.18524,
          1.18776,
          1.18819,
          1.18896,
          1.18922,
          1.18894,
          1.18951,
          1.18605,
          1.18484,
          1.18478,
          1.18575,
          1.18528,
          1.18239,
          1.1807,
          1.18073,
          1.1807,
          1.181,
          1.18102,
          1.18119,
          1.18209,
          1.18263,
          1.18295,
          1.18293,
          1.18155,
          1.17599,
          1.17651,
          1.1773,
          1.17213,
          1.17037,
          1.17095,
          1.17295,
          1.17364,
          1.17204,
          1.17193,
          1.17465,
          1.17538,
          1.17524,
          1.17551,
          1.17437,
          1.17396,
          1.17439,
          1.17483,
          1.17317,
          1.17307,
          1.17334,
          1.17372,
          1.17462,
          1.17333,
          1.17004,
          1.16933,
          1.16909,
          1.17014,
          1.17366,
          1.17397,
          1.17536
         ],
         "open": [
          1.1712,
          1.17133,
          1.17096,
          1.17056,
          1.16815,
          1.16731,
          1.17271,
          1.1694,
          1.1705,
          1.16989,
          1.16906,
          1.167,
          1.16654,
          1.16354,
          1.16383,
          1.16424,
          1.16521,
          1.16396,
          1.16288,
          1.16326,
          1.16429,
          1.16436,
          1.16384,
          1.16343,
          1.16507,
          1.16686,
          1.16739,
          1.16944,
          1.17152,
          1.17138,
          1.16826,
          1.16757,
          1.16955,
          1.16847,
          1.1699,
          1.16931,
          1.16877,
          1.16968,
          1.16899,
          1.16892,
          1.16774,
          1.16719,
          1.16825,
          1.16803,
          1.16732,
          1.16711,
          1.16778,
          1.16826,
          1.17179,
          1.17872,
          1.17937,
          1.17895,
          1.17884,
          1.1773,
          1.17834,
          1.17802,
          1.17838,
          1.17996,
          1.18259,
          1.18306,
          1.182,
          1.18261,
          1.18255,
          1.18158,
          1.18113,
          1.181,
          1.18082,
          1.1813,
          1.18172,
          1.18208,
          1.18201,
          1.18069,
          1.1808,
          1.18089,
          1.1816,
          1.1809,
          1.18084,
          1.18106,
          1.18447,
          1.18625,
          1.18563,
          1.18637,
          1.18675,
          1.18703,
          1.186,
          1.18659,
          1.1856,
          1.18548,
          1.18636,
          1.18869,
          1.18795,
          1.18836,
          1.1887,
          1.18401,
          1.18342,
          1.18677,
          1.18821,
          1.18965,
          1.1899,
          1.19081,
          1.18924,
          1.19008,
          1.19028,
          1.18657,
          1.18507,
          1.18658,
          1.18661,
          1.18542,
          1.18191,
          1.18073,
          1.1811,
          1.18107,
          1.18145,
          1.18146,
          1.18236,
          1.18285,
          1.1834,
          1.18379,
          1.18388,
          1.18199,
          1.17692,
          1.17837,
          1.17759,
          1.17258,
          1.17187,
          1.1751,
          1.17509,
          1.17367,
          1.17384,
          1.17651,
          1.17625,
          1.17601,
          1.17587,
          1.17634,
          1.17497,
          1.17522,
          1.17538,
          1.17659,
          1.1736,
          1.17334,
          1.17414,
          1.17487,
          1.17565,
          1.1743,
          1.17057,
          1.17034,
          1.17108,
          1.1742,
          1.17614,
          1.17592
         ],
         "type": "candlestick",
         "x": [
          300,
          301,
          302,
          303,
          304,
          305,
          306,
          307,
          308,
          309,
          310,
          311,
          312,
          313,
          314,
          315,
          316,
          317,
          318,
          319,
          320,
          321,
          322,
          323,
          324,
          325,
          326,
          327,
          328,
          329,
          330,
          331,
          332,
          333,
          334,
          335,
          336,
          337,
          338,
          339,
          340,
          341,
          342,
          343,
          344,
          345,
          346,
          347,
          348,
          349,
          350,
          351,
          352,
          353,
          354,
          355,
          356,
          357,
          358,
          359,
          360,
          361,
          362,
          363,
          364,
          365,
          366,
          367,
          368,
          369,
          370,
          371,
          372,
          373,
          374,
          375,
          376,
          377,
          378,
          379,
          380,
          381,
          382,
          383,
          384,
          385,
          386,
          387,
          388,
          389,
          390,
          391,
          392,
          393,
          394,
          395,
          396,
          397,
          398,
          399,
          400,
          401,
          402,
          403,
          404,
          405,
          406,
          407,
          408,
          409,
          410,
          411,
          412,
          413,
          414,
          415,
          416,
          417,
          418,
          419,
          420,
          421,
          422,
          423,
          424,
          425,
          426,
          427,
          428,
          429,
          430,
          431,
          432,
          433,
          434,
          435,
          436,
          437,
          438,
          439,
          440,
          441,
          442,
          443,
          444,
          445,
          446,
          447,
          448,
          449
         ]
        },
        {
         "marker": {
          "color": "MediumPurple",
          "size": 5
         },
         "mode": "markers",
         "name": "pivot",
         "type": "scatter",
         "x": [
          300,
          301,
          302,
          303,
          304,
          305,
          306,
          307,
          308,
          309,
          310,
          311,
          312,
          313,
          314,
          315,
          316,
          317,
          318,
          319,
          320,
          321,
          322,
          323,
          324,
          325,
          326,
          327,
          328,
          329,
          330,
          331,
          332,
          333,
          334,
          335,
          336,
          337,
          338,
          339,
          340,
          341,
          342,
          343,
          344,
          345,
          346,
          347,
          348,
          349,
          350,
          351,
          352,
          353,
          354,
          355,
          356,
          357,
          358,
          359,
          360,
          361,
          362,
          363,
          364,
          365,
          366,
          367,
          368,
          369,
          370,
          371,
          372,
          373,
          374,
          375,
          376,
          377,
          378,
          379,
          380,
          381,
          382,
          383,
          384,
          385,
          386,
          387,
          388,
          389,
          390,
          391,
          392,
          393,
          394,
          395,
          396,
          397,
          398,
          399,
          400,
          401,
          402,
          403,
          404,
          405,
          406,
          407,
          408,
          409,
          410,
          411,
          412,
          413,
          414,
          415,
          416,
          417,
          418,
          419,
          420,
          421,
          422,
          423,
          424,
          425,
          426,
          427,
          428,
          429,
          430,
          431,
          432,
          433,
          434,
          435,
          436,
          437,
          438,
          439,
          440,
          441,
          442,
          443,
          444,
          445,
          446,
          447,
          448,
          449
         ],
         "y": [
          null,
          null,
          null,
          null,
          1.1651,
          1.17495,
          null,
          null,
          null,
          null,
          null,
          null,
          null,
          1.1612600000000002,
          null,
          null,
          null,
          null,
          null,
          null,
          null,
          null,
          1.1608100000000001,
          null,
          null,
          null,
          null,
          null,
          1.17366,
          null,
          null,
          null,
          null,
          null,
          null,
          null,
          null,
          null,
          null,
          null,
          null,
          null,
          null,
          null,
          null,
          1.16535,
          null,
          null,
          null,
          1.18179,
          null,
          null,
          null,
          null,
          null,
          1.17575,
          null,
          null,
          1.1846299999999998,
          null,
          null,
          null,
          null,
          null,
          1.1793500000000001,
          null,
          null,
          null,
          null,
          1.1837199999999999,
          null,
          1.1785500000000002,
          null,
          null,
          null,
          null,
          null,
          null,
          null,
          null,
          null,
          null,
          null,
          null,
          null,
          null,
          null,
          null,
          null,
          null,
          null,
          null,
          null,
          1.18066,
          null,
          null,
          null,
          null,
          null,
          null,
          null,
          null,
          1.19386,
          null,
          null,
          null,
          null,
          null,
          1.1797000000000002,
          null,
          1.1797000000000002,
          null,
          null,
          null,
          null,
          null,
          1.18539,
          null,
          null,
          null,
          null,
          null,
          null,
          1.16937,
          null,
          null,
          null,
          null,
          null,
          1.1788999999999998,
          null,
          null,
          null,
          null,
          null,
          null,
          null,
          null,
          null,
          null,
          null,
          null,
          null,
          null,
          null,
          1.16809,
          null,
          null,
          null,
          null
         ]
        }
       ],
       "layout": {
        "template": {
         "data": {
          "bar": [
           {
            "error_x": {
             "color": "#2a3f5f"
            },
            "error_y": {
             "color": "#2a3f5f"
            },
            "marker": {
             "line": {
              "color": "#E5ECF6",
              "width": 0.5
             },
             "pattern": {
              "fillmode": "overlay",
              "size": 10,
              "solidity": 0.2
             }
            },
            "type": "bar"
           }
          ],
          "barpolar": [
           {
            "marker": {
             "line": {
              "color": "#E5ECF6",
              "width": 0.5
             },
             "pattern": {
              "fillmode": "overlay",
              "size": 10,
              "solidity": 0.2
             }
            },
            "type": "barpolar"
           }
          ],
          "carpet": [
           {
            "aaxis": {
             "endlinecolor": "#2a3f5f",
             "gridcolor": "white",
             "linecolor": "white",
             "minorgridcolor": "white",
             "startlinecolor": "#2a3f5f"
            },
            "baxis": {
             "endlinecolor": "#2a3f5f",
             "gridcolor": "white",
             "linecolor": "white",
             "minorgridcolor": "white",
             "startlinecolor": "#2a3f5f"
            },
            "type": "carpet"
           }
          ],
          "choropleth": [
           {
            "colorbar": {
             "outlinewidth": 0,
             "ticks": ""
            },
            "type": "choropleth"
           }
          ],
          "contour": [
           {
            "colorbar": {
             "outlinewidth": 0,
             "ticks": ""
            },
            "colorscale": [
             [
              0,
              "#0d0887"
             ],
             [
              0.1111111111111111,
              "#46039f"
             ],
             [
              0.2222222222222222,
              "#7201a8"
             ],
             [
              0.3333333333333333,
              "#9c179e"
             ],
             [
              0.4444444444444444,
              "#bd3786"
             ],
             [
              0.5555555555555556,
              "#d8576b"
             ],
             [
              0.6666666666666666,
              "#ed7953"
             ],
             [
              0.7777777777777778,
              "#fb9f3a"
             ],
             [
              0.8888888888888888,
              "#fdca26"
             ],
             [
              1,
              "#f0f921"
             ]
            ],
            "type": "contour"
           }
          ],
          "contourcarpet": [
           {
            "colorbar": {
             "outlinewidth": 0,
             "ticks": ""
            },
            "type": "contourcarpet"
           }
          ],
          "heatmap": [
           {
            "colorbar": {
             "outlinewidth": 0,
             "ticks": ""
            },
            "colorscale": [
             [
              0,
              "#0d0887"
             ],
             [
              0.1111111111111111,
              "#46039f"
             ],
             [
              0.2222222222222222,
              "#7201a8"
             ],
             [
              0.3333333333333333,
              "#9c179e"
             ],
             [
              0.4444444444444444,
              "#bd3786"
             ],
             [
              0.5555555555555556,
              "#d8576b"
             ],
             [
              0.6666666666666666,
              "#ed7953"
             ],
             [
              0.7777777777777778,
              "#fb9f3a"
             ],
             [
              0.8888888888888888,
              "#fdca26"
             ],
             [
              1,
              "#f0f921"
             ]
            ],
            "type": "heatmap"
           }
          ],
          "heatmapgl": [
           {
            "colorbar": {
             "outlinewidth": 0,
             "ticks": ""
            },
            "colorscale": [
             [
              0,
              "#0d0887"
             ],
             [
              0.1111111111111111,
              "#46039f"
             ],
             [
              0.2222222222222222,
              "#7201a8"
             ],
             [
              0.3333333333333333,
              "#9c179e"
             ],
             [
              0.4444444444444444,
              "#bd3786"
             ],
             [
              0.5555555555555556,
              "#d8576b"
             ],
             [
              0.6666666666666666,
              "#ed7953"
             ],
             [
              0.7777777777777778,
              "#fb9f3a"
             ],
             [
              0.8888888888888888,
              "#fdca26"
             ],
             [
              1,
              "#f0f921"
             ]
            ],
            "type": "heatmapgl"
           }
          ],
          "histogram": [
           {
            "marker": {
             "pattern": {
              "fillmode": "overlay",
              "size": 10,
              "solidity": 0.2
             }
            },
            "type": "histogram"
           }
          ],
          "histogram2d": [
           {
            "colorbar": {
             "outlinewidth": 0,
             "ticks": ""
            },
            "colorscale": [
             [
              0,
              "#0d0887"
             ],
             [
              0.1111111111111111,
              "#46039f"
             ],
             [
              0.2222222222222222,
              "#7201a8"
             ],
             [
              0.3333333333333333,
              "#9c179e"
             ],
             [
              0.4444444444444444,
              "#bd3786"
             ],
             [
              0.5555555555555556,
              "#d8576b"
             ],
             [
              0.6666666666666666,
              "#ed7953"
             ],
             [
              0.7777777777777778,
              "#fb9f3a"
             ],
             [
              0.8888888888888888,
              "#fdca26"
             ],
             [
              1,
              "#f0f921"
             ]
            ],
            "type": "histogram2d"
           }
          ],
          "histogram2dcontour": [
           {
            "colorbar": {
             "outlinewidth": 0,
             "ticks": ""
            },
            "colorscale": [
             [
              0,
              "#0d0887"
             ],
             [
              0.1111111111111111,
              "#46039f"
             ],
             [
              0.2222222222222222,
              "#7201a8"
             ],
             [
              0.3333333333333333,
              "#9c179e"
             ],
             [
              0.4444444444444444,
              "#bd3786"
             ],
             [
              0.5555555555555556,
              "#d8576b"
             ],
             [
              0.6666666666666666,
              "#ed7953"
             ],
             [
              0.7777777777777778,
              "#fb9f3a"
             ],
             [
              0.8888888888888888,
              "#fdca26"
             ],
             [
              1,
              "#f0f921"
             ]
            ],
            "type": "histogram2dcontour"
           }
          ],
          "mesh3d": [
           {
            "colorbar": {
             "outlinewidth": 0,
             "ticks": ""
            },
            "type": "mesh3d"
           }
          ],
          "parcoords": [
           {
            "line": {
             "colorbar": {
              "outlinewidth": 0,
              "ticks": ""
             }
            },
            "type": "parcoords"
           }
          ],
          "pie": [
           {
            "automargin": true,
            "type": "pie"
           }
          ],
          "scatter": [
           {
            "fillpattern": {
             "fillmode": "overlay",
             "size": 10,
             "solidity": 0.2
            },
            "type": "scatter"
           }
          ],
          "scatter3d": [
           {
            "line": {
             "colorbar": {
              "outlinewidth": 0,
              "ticks": ""
             }
            },
            "marker": {
             "colorbar": {
              "outlinewidth": 0,
              "ticks": ""
             }
            },
            "type": "scatter3d"
           }
          ],
          "scattercarpet": [
           {
            "marker": {
             "colorbar": {
              "outlinewidth": 0,
              "ticks": ""
             }
            },
            "type": "scattercarpet"
           }
          ],
          "scattergeo": [
           {
            "marker": {
             "colorbar": {
              "outlinewidth": 0,
              "ticks": ""
             }
            },
            "type": "scattergeo"
           }
          ],
          "scattergl": [
           {
            "marker": {
             "colorbar": {
              "outlinewidth": 0,
              "ticks": ""
             }
            },
            "type": "scattergl"
           }
          ],
          "scattermapbox": [
           {
            "marker": {
             "colorbar": {
              "outlinewidth": 0,
              "ticks": ""
             }
            },
            "type": "scattermapbox"
           }
          ],
          "scatterpolar": [
           {
            "marker": {
             "colorbar": {
              "outlinewidth": 0,
              "ticks": ""
             }
            },
            "type": "scatterpolar"
           }
          ],
          "scatterpolargl": [
           {
            "marker": {
             "colorbar": {
              "outlinewidth": 0,
              "ticks": ""
             }
            },
            "type": "scatterpolargl"
           }
          ],
          "scatterternary": [
           {
            "marker": {
             "colorbar": {
              "outlinewidth": 0,
              "ticks": ""
             }
            },
            "type": "scatterternary"
           }
          ],
          "surface": [
           {
            "colorbar": {
             "outlinewidth": 0,
             "ticks": ""
            },
            "colorscale": [
             [
              0,
              "#0d0887"
             ],
             [
              0.1111111111111111,
              "#46039f"
             ],
             [
              0.2222222222222222,
              "#7201a8"
             ],
             [
              0.3333333333333333,
              "#9c179e"
             ],
             [
              0.4444444444444444,
              "#bd3786"
             ],
             [
              0.5555555555555556,
              "#d8576b"
             ],
             [
              0.6666666666666666,
              "#ed7953"
             ],
             [
              0.7777777777777778,
              "#fb9f3a"
             ],
             [
              0.8888888888888888,
              "#fdca26"
             ],
             [
              1,
              "#f0f921"
             ]
            ],
            "type": "surface"
           }
          ],
          "table": [
           {
            "cells": {
             "fill": {
              "color": "#EBF0F8"
             },
             "line": {
              "color": "white"
             }
            },
            "header": {
             "fill": {
              "color": "#C8D4E3"
             },
             "line": {
              "color": "white"
             }
            },
            "type": "table"
           }
          ]
         },
         "layout": {
          "annotationdefaults": {
           "arrowcolor": "#2a3f5f",
           "arrowhead": 0,
           "arrowwidth": 1
          },
          "autotypenumbers": "strict",
          "coloraxis": {
           "colorbar": {
            "outlinewidth": 0,
            "ticks": ""
           }
          },
          "colorscale": {
           "diverging": [
            [
             0,
             "#8e0152"
            ],
            [
             0.1,
             "#c51b7d"
            ],
            [
             0.2,
             "#de77ae"
            ],
            [
             0.3,
             "#f1b6da"
            ],
            [
             0.4,
             "#fde0ef"
            ],
            [
             0.5,
             "#f7f7f7"
            ],
            [
             0.6,
             "#e6f5d0"
            ],
            [
             0.7,
             "#b8e186"
            ],
            [
             0.8,
             "#7fbc41"
            ],
            [
             0.9,
             "#4d9221"
            ],
            [
             1,
             "#276419"
            ]
           ],
           "sequential": [
            [
             0,
             "#0d0887"
            ],
            [
             0.1111111111111111,
             "#46039f"
            ],
            [
             0.2222222222222222,
             "#7201a8"
            ],
            [
             0.3333333333333333,
             "#9c179e"
            ],
            [
             0.4444444444444444,
             "#bd3786"
            ],
            [
             0.5555555555555556,
             "#d8576b"
            ],
            [
             0.6666666666666666,
             "#ed7953"
            ],
            [
             0.7777777777777778,
             "#fb9f3a"
            ],
            [
             0.8888888888888888,
             "#fdca26"
            ],
            [
             1,
             "#f0f921"
            ]
           ],
           "sequentialminus": [
            [
             0,
             "#0d0887"
            ],
            [
             0.1111111111111111,
             "#46039f"
            ],
            [
             0.2222222222222222,
             "#7201a8"
            ],
            [
             0.3333333333333333,
             "#9c179e"
            ],
            [
             0.4444444444444444,
             "#bd3786"
            ],
            [
             0.5555555555555556,
             "#d8576b"
            ],
            [
             0.6666666666666666,
             "#ed7953"
            ],
            [
             0.7777777777777778,
             "#fb9f3a"
            ],
            [
             0.8888888888888888,
             "#fdca26"
            ],
            [
             1,
             "#f0f921"
            ]
           ]
          },
          "colorway": [
           "#636efa",
           "#EF553B",
           "#00cc96",
           "#ab63fa",
           "#FFA15A",
           "#19d3f3",
           "#FF6692",
           "#B6E880",
           "#FF97FF",
           "#FECB52"
          ],
          "font": {
           "color": "#2a3f5f"
          },
          "geo": {
           "bgcolor": "white",
           "lakecolor": "white",
           "landcolor": "#E5ECF6",
           "showlakes": true,
           "showland": true,
           "subunitcolor": "white"
          },
          "hoverlabel": {
           "align": "left"
          },
          "hovermode": "closest",
          "mapbox": {
           "style": "light"
          },
          "paper_bgcolor": "white",
          "plot_bgcolor": "#E5ECF6",
          "polar": {
           "angularaxis": {
            "gridcolor": "white",
            "linecolor": "white",
            "ticks": ""
           },
           "bgcolor": "#E5ECF6",
           "radialaxis": {
            "gridcolor": "white",
            "linecolor": "white",
            "ticks": ""
           }
          },
          "scene": {
           "xaxis": {
            "backgroundcolor": "#E5ECF6",
            "gridcolor": "white",
            "gridwidth": 2,
            "linecolor": "white",
            "showbackground": true,
            "ticks": "",
            "zerolinecolor": "white"
           },
           "yaxis": {
            "backgroundcolor": "#E5ECF6",
            "gridcolor": "white",
            "gridwidth": 2,
            "linecolor": "white",
            "showbackground": true,
            "ticks": "",
            "zerolinecolor": "white"
           },
           "zaxis": {
            "backgroundcolor": "#E5ECF6",
            "gridcolor": "white",
            "gridwidth": 2,
            "linecolor": "white",
            "showbackground": true,
            "ticks": "",
            "zerolinecolor": "white"
           }
          },
          "shapedefaults": {
           "line": {
            "color": "#2a3f5f"
           }
          },
          "ternary": {
           "aaxis": {
            "gridcolor": "white",
            "linecolor": "white",
            "ticks": ""
           },
           "baxis": {
            "gridcolor": "white",
            "linecolor": "white",
            "ticks": ""
           },
           "bgcolor": "#E5ECF6",
           "caxis": {
            "gridcolor": "white",
            "linecolor": "white",
            "ticks": ""
           }
          },
          "title": {
           "x": 0.05
          },
          "xaxis": {
           "automargin": true,
           "gridcolor": "white",
           "linecolor": "white",
           "ticks": "",
           "title": {
            "standoff": 15
           },
           "zerolinecolor": "white",
           "zerolinewidth": 2
          },
          "yaxis": {
           "automargin": true,
           "gridcolor": "white",
           "linecolor": "white",
           "ticks": "",
           "title": {
            "standoff": 15
           },
           "zerolinecolor": "white",
           "zerolinewidth": 2
          }
         }
        }
       }
      }
     },
     "metadata": {},
     "output_type": "display_data"
    }
   ],
   "source": [
    "def pointpos(x):\n",
    "    if x['isPivot']==2:\n",
    "        return x['low']-1e-3\n",
    "    elif x['isPivot']==1:\n",
    "        return x['high']+1e-3\n",
    "    else:\n",
    "        return np.nan\n",
    "df['pointpos'] = df.apply(lambda row: pointpos(row), axis=1)\n",
    "\n",
    "dfpl = df[300:450]\n",
    "fig = go.Figure(data=[go.Candlestick(x=dfpl.index,\n",
    "                open=dfpl['open'],\n",
    "                high=dfpl['high'],\n",
    "                low=dfpl['low'],\n",
    "                close=dfpl['close'])])\n",
    "\n",
    "fig.add_scatter(x=dfpl.index, y=dfpl['pointpos'], mode=\"markers\",\n",
    "                marker=dict(size=5, color=\"MediumPurple\"),\n",
    "                name=\"pivot\")\n",
    "\n",
    "fig.show()"
   ]
  },
  {
   "cell_type": "code",
   "execution_count": 195,
   "metadata": {},
   "outputs": [
    {
     "data": {
      "application/vnd.plotly.v1+json": {
       "config": {
        "plotlyServerURL": "https://plot.ly"
       },
       "data": [
        {
         "close": [
          1.17131,
          1.17105,
          1.17065,
          1.16839,
          1.1675,
          1.17281,
          1.16957,
          1.17043,
          1.16992,
          1.16949,
          1.16696,
          1.16716,
          1.1635,
          1.1638,
          1.16404,
          1.16525,
          1.16429,
          1.16269,
          1.16328,
          1.16422,
          1.16454,
          1.16386,
          1.16325,
          1.16438,
          1.16691,
          1.16754,
          1.16933,
          1.17147,
          1.1712,
          1.16877,
          1.16799,
          1.16966,
          1.16875,
          1.16988,
          1.16962,
          1.16908,
          1.16991,
          1.16901,
          1.16908,
          1.16786,
          1.16696,
          1.1682,
          1.16804,
          1.16768,
          1.16737,
          1.16766,
          1.1685,
          1.17111,
          1.17845,
          1.17928,
          1.17878,
          1.17885,
          1.17782,
          1.17813,
          1.17818,
          1.17803,
          1.17985,
          1.1827,
          1.18304,
          1.18236,
          1.18243,
          1.18268,
          1.18177,
          1.18123,
          1.18102,
          1.18128,
          1.18118,
          1.18174,
          1.18201,
          1.18192,
          1.18085,
          1.18053,
          1.18075,
          1.18135,
          1.18099,
          1.1809,
          1.18126,
          1.18419,
          1.18617,
          1.18598,
          1.18681,
          1.18667,
          1.18711,
          1.1866,
          1.18692,
          1.18574,
          1.18567,
          1.18604,
          1.18878,
          1.18795,
          1.18841,
          1.18867,
          1.18441,
          1.18331,
          1.18657,
          1.18787,
          1.18977,
          1.19023,
          1.19074,
          1.1895,
          1.19006,
          1.19057,
          1.18706,
          1.1852,
          1.1866,
          1.18666,
          1.18565,
          1.18258,
          1.18076,
          1.18119,
          1.18102,
          1.181,
          1.18166,
          1.18258,
          1.18266,
          1.18318,
          1.18405,
          1.18396,
          1.18202,
          1.17675,
          1.17858,
          1.17776,
          1.17297,
          1.1718,
          1.17506,
          1.17471,
          1.17414,
          1.17413,
          1.17618,
          1.17587,
          1.17597,
          1.17619,
          1.17629,
          1.1751,
          1.17516,
          1.17524,
          1.17634,
          1.17406,
          1.17354,
          1.17419,
          1.17463,
          1.1759,
          1.1743,
          1.1702,
          1.17058,
          1.17074,
          1.17408,
          1.17586,
          1.17577,
          1.17659
         ],
         "high": [
          1.17229,
          1.17191,
          1.17183,
          1.17095,
          1.16898,
          1.17395,
          1.17311,
          1.17086,
          1.17174,
          1.17029,
          1.16973,
          1.16824,
          1.16803,
          1.1652,
          1.16478,
          1.16561,
          1.16575,
          1.16447,
          1.16391,
          1.16478,
          1.16525,
          1.16529,
          1.16456,
          1.16538,
          1.16781,
          1.16794,
          1.17128,
          1.17166,
          1.17266,
          1.17184,
          1.17089,
          1.17074,
          1.17133,
          1.17223,
          1.17046,
          1.16978,
          1.17038,
          1.17004,
          1.16992,
          1.16979,
          1.168,
          1.16895,
          1.16921,
          1.16812,
          1.16801,
          1.16801,
          1.16902,
          1.17164,
          1.17869,
          1.18079,
          1.18063,
          1.18056,
          1.17977,
          1.17889,
          1.17938,
          1.1788,
          1.18165,
          1.18314,
          1.18363,
          1.18347,
          1.18296,
          1.18332,
          1.18282,
          1.18211,
          1.18165,
          1.18162,
          1.18206,
          1.18193,
          1.1827,
          1.18272,
          1.18207,
          1.1812,
          1.18211,
          1.18223,
          1.18188,
          1.18155,
          1.18151,
          1.18491,
          1.18656,
          1.18677,
          1.18722,
          1.18701,
          1.18721,
          1.18744,
          1.18705,
          1.18742,
          1.18607,
          1.18631,
          1.18962,
          1.18979,
          1.18882,
          1.18933,
          1.19067,
          1.18535,
          1.18703,
          1.18985,
          1.19031,
          1.19113,
          1.19223,
          1.19127,
          1.19025,
          1.19168,
          1.19286,
          1.18735,
          1.18716,
          1.1875,
          1.18708,
          1.18572,
          1.18266,
          1.1818,
          1.18138,
          1.1825,
          1.18189,
          1.18289,
          1.18324,
          1.18412,
          1.18439,
          1.18423,
          1.18397,
          1.18353,
          1.17925,
          1.17967,
          1.17778,
          1.17346,
          1.17599,
          1.17576,
          1.17749,
          1.17574,
          1.17654,
          1.1779,
          1.17691,
          1.17627,
          1.17693,
          1.17661,
          1.17545,
          1.17591,
          1.17689,
          1.17667,
          1.1746,
          1.1752,
          1.17557,
          1.17682,
          1.17623,
          1.17516,
          1.17267,
          1.17181,
          1.17583,
          1.17768,
          1.1769,
          1.1789
         ],
         "low": [
          1.17012,
          1.17039,
          1.16971,
          1.16738,
          1.1661,
          1.16673,
          1.1676,
          1.16829,
          1.1696,
          1.16874,
          1.16651,
          1.16658,
          1.16349,
          1.16226,
          1.16275,
          1.16417,
          1.16372,
          1.16226,
          1.16227,
          1.16316,
          1.16397,
          1.16327,
          1.16181,
          1.16308,
          1.16482,
          1.16626,
          1.16739,
          1.16863,
          1.1705,
          1.16779,
          1.16705,
          1.16738,
          1.16835,
          1.1683,
          1.16904,
          1.16847,
          1.16789,
          1.16866,
          1.16894,
          1.16731,
          1.16638,
          1.16684,
          1.16746,
          1.16735,
          1.16682,
          1.16635,
          1.16658,
          1.1681,
          1.17134,
          1.17835,
          1.17806,
          1.17792,
          1.17743,
          1.177,
          1.17682,
          1.17675,
          1.17831,
          1.17969,
          1.18211,
          1.18209,
          1.18168,
          1.18224,
          1.18144,
          1.18082,
          1.18035,
          1.18047,
          1.18067,
          1.18083,
          1.18147,
          1.18109,
          1.18054,
          1.17955,
          1.18041,
          1.18074,
          1.1805,
          1.18043,
          1.18052,
          1.18059,
          1.18287,
          1.18478,
          1.18557,
          1.18612,
          1.18646,
          1.18646,
          1.186,
          1.18565,
          1.18507,
          1.1844,
          1.18613,
          1.18785,
          1.18763,
          1.18798,
          1.18416,
          1.18166,
          1.18217,
          1.18524,
          1.18776,
          1.18819,
          1.18896,
          1.18922,
          1.18894,
          1.18951,
          1.18605,
          1.18484,
          1.18478,
          1.18575,
          1.18528,
          1.18239,
          1.1807,
          1.18073,
          1.1807,
          1.181,
          1.18102,
          1.18119,
          1.18209,
          1.18263,
          1.18295,
          1.18293,
          1.18155,
          1.17599,
          1.17651,
          1.1773,
          1.17213,
          1.17037,
          1.17095,
          1.17295,
          1.17364,
          1.17204,
          1.17193,
          1.17465,
          1.17538,
          1.17524,
          1.17551,
          1.17437,
          1.17396,
          1.17439,
          1.17483,
          1.17317,
          1.17307,
          1.17334,
          1.17372,
          1.17462,
          1.17333,
          1.17004,
          1.16933,
          1.16909,
          1.17014,
          1.17366,
          1.17397,
          1.17536
         ],
         "open": [
          1.1712,
          1.17133,
          1.17096,
          1.17056,
          1.16815,
          1.16731,
          1.17271,
          1.1694,
          1.1705,
          1.16989,
          1.16906,
          1.167,
          1.16654,
          1.16354,
          1.16383,
          1.16424,
          1.16521,
          1.16396,
          1.16288,
          1.16326,
          1.16429,
          1.16436,
          1.16384,
          1.16343,
          1.16507,
          1.16686,
          1.16739,
          1.16944,
          1.17152,
          1.17138,
          1.16826,
          1.16757,
          1.16955,
          1.16847,
          1.1699,
          1.16931,
          1.16877,
          1.16968,
          1.16899,
          1.16892,
          1.16774,
          1.16719,
          1.16825,
          1.16803,
          1.16732,
          1.16711,
          1.16778,
          1.16826,
          1.17179,
          1.17872,
          1.17937,
          1.17895,
          1.17884,
          1.1773,
          1.17834,
          1.17802,
          1.17838,
          1.17996,
          1.18259,
          1.18306,
          1.182,
          1.18261,
          1.18255,
          1.18158,
          1.18113,
          1.181,
          1.18082,
          1.1813,
          1.18172,
          1.18208,
          1.18201,
          1.18069,
          1.1808,
          1.18089,
          1.1816,
          1.1809,
          1.18084,
          1.18106,
          1.18447,
          1.18625,
          1.18563,
          1.18637,
          1.18675,
          1.18703,
          1.186,
          1.18659,
          1.1856,
          1.18548,
          1.18636,
          1.18869,
          1.18795,
          1.18836,
          1.1887,
          1.18401,
          1.18342,
          1.18677,
          1.18821,
          1.18965,
          1.1899,
          1.19081,
          1.18924,
          1.19008,
          1.19028,
          1.18657,
          1.18507,
          1.18658,
          1.18661,
          1.18542,
          1.18191,
          1.18073,
          1.1811,
          1.18107,
          1.18145,
          1.18146,
          1.18236,
          1.18285,
          1.1834,
          1.18379,
          1.18388,
          1.18199,
          1.17692,
          1.17837,
          1.17759,
          1.17258,
          1.17187,
          1.1751,
          1.17509,
          1.17367,
          1.17384,
          1.17651,
          1.17625,
          1.17601,
          1.17587,
          1.17634,
          1.17497,
          1.17522,
          1.17538,
          1.17659,
          1.1736,
          1.17334,
          1.17414,
          1.17487,
          1.17565,
          1.1743,
          1.17057,
          1.17034,
          1.17108,
          1.1742,
          1.17614,
          1.17592
         ],
         "type": "candlestick",
         "x": [
          300,
          301,
          302,
          303,
          304,
          305,
          306,
          307,
          308,
          309,
          310,
          311,
          312,
          313,
          314,
          315,
          316,
          317,
          318,
          319,
          320,
          321,
          322,
          323,
          324,
          325,
          326,
          327,
          328,
          329,
          330,
          331,
          332,
          333,
          334,
          335,
          336,
          337,
          338,
          339,
          340,
          341,
          342,
          343,
          344,
          345,
          346,
          347,
          348,
          349,
          350,
          351,
          352,
          353,
          354,
          355,
          356,
          357,
          358,
          359,
          360,
          361,
          362,
          363,
          364,
          365,
          366,
          367,
          368,
          369,
          370,
          371,
          372,
          373,
          374,
          375,
          376,
          377,
          378,
          379,
          380,
          381,
          382,
          383,
          384,
          385,
          386,
          387,
          388,
          389,
          390,
          391,
          392,
          393,
          394,
          395,
          396,
          397,
          398,
          399,
          400,
          401,
          402,
          403,
          404,
          405,
          406,
          407,
          408,
          409,
          410,
          411,
          412,
          413,
          414,
          415,
          416,
          417,
          418,
          419,
          420,
          421,
          422,
          423,
          424,
          425,
          426,
          427,
          428,
          429,
          430,
          431,
          432,
          433,
          434,
          435,
          436,
          437,
          438,
          439,
          440,
          441,
          442,
          443,
          444,
          445,
          446,
          447,
          448,
          449
         ]
        },
        {
         "marker": {
          "color": "red",
          "size": 10,
          "symbol": "circle"
         },
         "mode": "markers",
         "name": "Pivot High",
         "type": "scatter",
         "x": [
          305,
          316,
          328,
          333,
          349,
          358,
          369,
          373,
          389,
          398,
          416,
          426,
          429,
          436,
          441
         ],
         "y": [
          1.17495,
          1.16675,
          1.17366,
          1.17323,
          1.18179,
          1.1846299999999998,
          1.1837199999999999,
          1.1832299999999998,
          1.1907899999999998,
          1.1932299999999998,
          1.18539,
          1.1784899999999998,
          1.1788999999999998,
          1.1778899999999999,
          1.1778199999999999
         ]
        },
        {
         "marker": {
          "color": "green",
          "size": 10,
          "symbol": "circle"
         },
         "mode": "markers",
         "name": "Pivot Low",
         "type": "scatter",
         "x": [
          313,
          317,
          330,
          336,
          355,
          364,
          371,
          387,
          393,
          404,
          419,
          428,
          434,
          438,
          445
         ],
         "y": [
          1.1612600000000002,
          1.1612600000000002,
          1.16605,
          1.1668900000000002,
          1.17575,
          1.1793500000000001,
          1.1785500000000002,
          1.1834,
          1.18066,
          1.18378,
          1.1749900000000002,
          1.17093,
          1.17296,
          1.1720700000000002,
          1.16809
         ]
        }
       ],
       "layout": {
        "template": {
         "data": {
          "bar": [
           {
            "error_x": {
             "color": "#2a3f5f"
            },
            "error_y": {
             "color": "#2a3f5f"
            },
            "marker": {
             "line": {
              "color": "#E5ECF6",
              "width": 0.5
             },
             "pattern": {
              "fillmode": "overlay",
              "size": 10,
              "solidity": 0.2
             }
            },
            "type": "bar"
           }
          ],
          "barpolar": [
           {
            "marker": {
             "line": {
              "color": "#E5ECF6",
              "width": 0.5
             },
             "pattern": {
              "fillmode": "overlay",
              "size": 10,
              "solidity": 0.2
             }
            },
            "type": "barpolar"
           }
          ],
          "carpet": [
           {
            "aaxis": {
             "endlinecolor": "#2a3f5f",
             "gridcolor": "white",
             "linecolor": "white",
             "minorgridcolor": "white",
             "startlinecolor": "#2a3f5f"
            },
            "baxis": {
             "endlinecolor": "#2a3f5f",
             "gridcolor": "white",
             "linecolor": "white",
             "minorgridcolor": "white",
             "startlinecolor": "#2a3f5f"
            },
            "type": "carpet"
           }
          ],
          "choropleth": [
           {
            "colorbar": {
             "outlinewidth": 0,
             "ticks": ""
            },
            "type": "choropleth"
           }
          ],
          "contour": [
           {
            "colorbar": {
             "outlinewidth": 0,
             "ticks": ""
            },
            "colorscale": [
             [
              0,
              "#0d0887"
             ],
             [
              0.1111111111111111,
              "#46039f"
             ],
             [
              0.2222222222222222,
              "#7201a8"
             ],
             [
              0.3333333333333333,
              "#9c179e"
             ],
             [
              0.4444444444444444,
              "#bd3786"
             ],
             [
              0.5555555555555556,
              "#d8576b"
             ],
             [
              0.6666666666666666,
              "#ed7953"
             ],
             [
              0.7777777777777778,
              "#fb9f3a"
             ],
             [
              0.8888888888888888,
              "#fdca26"
             ],
             [
              1,
              "#f0f921"
             ]
            ],
            "type": "contour"
           }
          ],
          "contourcarpet": [
           {
            "colorbar": {
             "outlinewidth": 0,
             "ticks": ""
            },
            "type": "contourcarpet"
           }
          ],
          "heatmap": [
           {
            "colorbar": {
             "outlinewidth": 0,
             "ticks": ""
            },
            "colorscale": [
             [
              0,
              "#0d0887"
             ],
             [
              0.1111111111111111,
              "#46039f"
             ],
             [
              0.2222222222222222,
              "#7201a8"
             ],
             [
              0.3333333333333333,
              "#9c179e"
             ],
             [
              0.4444444444444444,
              "#bd3786"
             ],
             [
              0.5555555555555556,
              "#d8576b"
             ],
             [
              0.6666666666666666,
              "#ed7953"
             ],
             [
              0.7777777777777778,
              "#fb9f3a"
             ],
             [
              0.8888888888888888,
              "#fdca26"
             ],
             [
              1,
              "#f0f921"
             ]
            ],
            "type": "heatmap"
           }
          ],
          "heatmapgl": [
           {
            "colorbar": {
             "outlinewidth": 0,
             "ticks": ""
            },
            "colorscale": [
             [
              0,
              "#0d0887"
             ],
             [
              0.1111111111111111,
              "#46039f"
             ],
             [
              0.2222222222222222,
              "#7201a8"
             ],
             [
              0.3333333333333333,
              "#9c179e"
             ],
             [
              0.4444444444444444,
              "#bd3786"
             ],
             [
              0.5555555555555556,
              "#d8576b"
             ],
             [
              0.6666666666666666,
              "#ed7953"
             ],
             [
              0.7777777777777778,
              "#fb9f3a"
             ],
             [
              0.8888888888888888,
              "#fdca26"
             ],
             [
              1,
              "#f0f921"
             ]
            ],
            "type": "heatmapgl"
           }
          ],
          "histogram": [
           {
            "marker": {
             "pattern": {
              "fillmode": "overlay",
              "size": 10,
              "solidity": 0.2
             }
            },
            "type": "histogram"
           }
          ],
          "histogram2d": [
           {
            "colorbar": {
             "outlinewidth": 0,
             "ticks": ""
            },
            "colorscale": [
             [
              0,
              "#0d0887"
             ],
             [
              0.1111111111111111,
              "#46039f"
             ],
             [
              0.2222222222222222,
              "#7201a8"
             ],
             [
              0.3333333333333333,
              "#9c179e"
             ],
             [
              0.4444444444444444,
              "#bd3786"
             ],
             [
              0.5555555555555556,
              "#d8576b"
             ],
             [
              0.6666666666666666,
              "#ed7953"
             ],
             [
              0.7777777777777778,
              "#fb9f3a"
             ],
             [
              0.8888888888888888,
              "#fdca26"
             ],
             [
              1,
              "#f0f921"
             ]
            ],
            "type": "histogram2d"
           }
          ],
          "histogram2dcontour": [
           {
            "colorbar": {
             "outlinewidth": 0,
             "ticks": ""
            },
            "colorscale": [
             [
              0,
              "#0d0887"
             ],
             [
              0.1111111111111111,
              "#46039f"
             ],
             [
              0.2222222222222222,
              "#7201a8"
             ],
             [
              0.3333333333333333,
              "#9c179e"
             ],
             [
              0.4444444444444444,
              "#bd3786"
             ],
             [
              0.5555555555555556,
              "#d8576b"
             ],
             [
              0.6666666666666666,
              "#ed7953"
             ],
             [
              0.7777777777777778,
              "#fb9f3a"
             ],
             [
              0.8888888888888888,
              "#fdca26"
             ],
             [
              1,
              "#f0f921"
             ]
            ],
            "type": "histogram2dcontour"
           }
          ],
          "mesh3d": [
           {
            "colorbar": {
             "outlinewidth": 0,
             "ticks": ""
            },
            "type": "mesh3d"
           }
          ],
          "parcoords": [
           {
            "line": {
             "colorbar": {
              "outlinewidth": 0,
              "ticks": ""
             }
            },
            "type": "parcoords"
           }
          ],
          "pie": [
           {
            "automargin": true,
            "type": "pie"
           }
          ],
          "scatter": [
           {
            "fillpattern": {
             "fillmode": "overlay",
             "size": 10,
             "solidity": 0.2
            },
            "type": "scatter"
           }
          ],
          "scatter3d": [
           {
            "line": {
             "colorbar": {
              "outlinewidth": 0,
              "ticks": ""
             }
            },
            "marker": {
             "colorbar": {
              "outlinewidth": 0,
              "ticks": ""
             }
            },
            "type": "scatter3d"
           }
          ],
          "scattercarpet": [
           {
            "marker": {
             "colorbar": {
              "outlinewidth": 0,
              "ticks": ""
             }
            },
            "type": "scattercarpet"
           }
          ],
          "scattergeo": [
           {
            "marker": {
             "colorbar": {
              "outlinewidth": 0,
              "ticks": ""
             }
            },
            "type": "scattergeo"
           }
          ],
          "scattergl": [
           {
            "marker": {
             "colorbar": {
              "outlinewidth": 0,
              "ticks": ""
             }
            },
            "type": "scattergl"
           }
          ],
          "scattermapbox": [
           {
            "marker": {
             "colorbar": {
              "outlinewidth": 0,
              "ticks": ""
             }
            },
            "type": "scattermapbox"
           }
          ],
          "scatterpolar": [
           {
            "marker": {
             "colorbar": {
              "outlinewidth": 0,
              "ticks": ""
             }
            },
            "type": "scatterpolar"
           }
          ],
          "scatterpolargl": [
           {
            "marker": {
             "colorbar": {
              "outlinewidth": 0,
              "ticks": ""
             }
            },
            "type": "scatterpolargl"
           }
          ],
          "scatterternary": [
           {
            "marker": {
             "colorbar": {
              "outlinewidth": 0,
              "ticks": ""
             }
            },
            "type": "scatterternary"
           }
          ],
          "surface": [
           {
            "colorbar": {
             "outlinewidth": 0,
             "ticks": ""
            },
            "colorscale": [
             [
              0,
              "#0d0887"
             ],
             [
              0.1111111111111111,
              "#46039f"
             ],
             [
              0.2222222222222222,
              "#7201a8"
             ],
             [
              0.3333333333333333,
              "#9c179e"
             ],
             [
              0.4444444444444444,
              "#bd3786"
             ],
             [
              0.5555555555555556,
              "#d8576b"
             ],
             [
              0.6666666666666666,
              "#ed7953"
             ],
             [
              0.7777777777777778,
              "#fb9f3a"
             ],
             [
              0.8888888888888888,
              "#fdca26"
             ],
             [
              1,
              "#f0f921"
             ]
            ],
            "type": "surface"
           }
          ],
          "table": [
           {
            "cells": {
             "fill": {
              "color": "#EBF0F8"
             },
             "line": {
              "color": "white"
             }
            },
            "header": {
             "fill": {
              "color": "#C8D4E3"
             },
             "line": {
              "color": "white"
             }
            },
            "type": "table"
           }
          ]
         },
         "layout": {
          "annotationdefaults": {
           "arrowcolor": "#2a3f5f",
           "arrowhead": 0,
           "arrowwidth": 1
          },
          "autotypenumbers": "strict",
          "coloraxis": {
           "colorbar": {
            "outlinewidth": 0,
            "ticks": ""
           }
          },
          "colorscale": {
           "diverging": [
            [
             0,
             "#8e0152"
            ],
            [
             0.1,
             "#c51b7d"
            ],
            [
             0.2,
             "#de77ae"
            ],
            [
             0.3,
             "#f1b6da"
            ],
            [
             0.4,
             "#fde0ef"
            ],
            [
             0.5,
             "#f7f7f7"
            ],
            [
             0.6,
             "#e6f5d0"
            ],
            [
             0.7,
             "#b8e186"
            ],
            [
             0.8,
             "#7fbc41"
            ],
            [
             0.9,
             "#4d9221"
            ],
            [
             1,
             "#276419"
            ]
           ],
           "sequential": [
            [
             0,
             "#0d0887"
            ],
            [
             0.1111111111111111,
             "#46039f"
            ],
            [
             0.2222222222222222,
             "#7201a8"
            ],
            [
             0.3333333333333333,
             "#9c179e"
            ],
            [
             0.4444444444444444,
             "#bd3786"
            ],
            [
             0.5555555555555556,
             "#d8576b"
            ],
            [
             0.6666666666666666,
             "#ed7953"
            ],
            [
             0.7777777777777778,
             "#fb9f3a"
            ],
            [
             0.8888888888888888,
             "#fdca26"
            ],
            [
             1,
             "#f0f921"
            ]
           ],
           "sequentialminus": [
            [
             0,
             "#0d0887"
            ],
            [
             0.1111111111111111,
             "#46039f"
            ],
            [
             0.2222222222222222,
             "#7201a8"
            ],
            [
             0.3333333333333333,
             "#9c179e"
            ],
            [
             0.4444444444444444,
             "#bd3786"
            ],
            [
             0.5555555555555556,
             "#d8576b"
            ],
            [
             0.6666666666666666,
             "#ed7953"
            ],
            [
             0.7777777777777778,
             "#fb9f3a"
            ],
            [
             0.8888888888888888,
             "#fdca26"
            ],
            [
             1,
             "#f0f921"
            ]
           ]
          },
          "colorway": [
           "#636efa",
           "#EF553B",
           "#00cc96",
           "#ab63fa",
           "#FFA15A",
           "#19d3f3",
           "#FF6692",
           "#B6E880",
           "#FF97FF",
           "#FECB52"
          ],
          "font": {
           "color": "#2a3f5f"
          },
          "geo": {
           "bgcolor": "white",
           "lakecolor": "white",
           "landcolor": "#E5ECF6",
           "showlakes": true,
           "showland": true,
           "subunitcolor": "white"
          },
          "hoverlabel": {
           "align": "left"
          },
          "hovermode": "closest",
          "mapbox": {
           "style": "light"
          },
          "paper_bgcolor": "white",
          "plot_bgcolor": "#E5ECF6",
          "polar": {
           "angularaxis": {
            "gridcolor": "white",
            "linecolor": "white",
            "ticks": ""
           },
           "bgcolor": "#E5ECF6",
           "radialaxis": {
            "gridcolor": "white",
            "linecolor": "white",
            "ticks": ""
           }
          },
          "scene": {
           "xaxis": {
            "backgroundcolor": "#E5ECF6",
            "gridcolor": "white",
            "gridwidth": 2,
            "linecolor": "white",
            "showbackground": true,
            "ticks": "",
            "zerolinecolor": "white"
           },
           "yaxis": {
            "backgroundcolor": "#E5ECF6",
            "gridcolor": "white",
            "gridwidth": 2,
            "linecolor": "white",
            "showbackground": true,
            "ticks": "",
            "zerolinecolor": "white"
           },
           "zaxis": {
            "backgroundcolor": "#E5ECF6",
            "gridcolor": "white",
            "gridwidth": 2,
            "linecolor": "white",
            "showbackground": true,
            "ticks": "",
            "zerolinecolor": "white"
           }
          },
          "shapedefaults": {
           "line": {
            "color": "#2a3f5f"
           }
          },
          "ternary": {
           "aaxis": {
            "gridcolor": "white",
            "linecolor": "white",
            "ticks": ""
           },
           "baxis": {
            "gridcolor": "white",
            "linecolor": "white",
            "ticks": ""
           },
           "bgcolor": "#E5ECF6",
           "caxis": {
            "gridcolor": "white",
            "linecolor": "white",
            "ticks": ""
           }
          },
          "title": {
           "x": 0.05
          },
          "xaxis": {
           "automargin": true,
           "gridcolor": "white",
           "linecolor": "white",
           "ticks": "",
           "title": {
            "standoff": 15
           },
           "zerolinecolor": "white",
           "zerolinewidth": 2
          },
          "yaxis": {
           "automargin": true,
           "gridcolor": "white",
           "linecolor": "white",
           "ticks": "",
           "title": {
            "standoff": 15
           },
           "zerolinecolor": "white",
           "zerolinewidth": 2
          }
         }
        }
       }
      }
     },
     "metadata": {},
     "output_type": "display_data"
    },
    {
     "name": "stdout",
     "output_type": "stream",
     "text": [
      "Nombre de points hauts de structure : 446\n",
      "Nombre de points bas de structure : 447\n"
     ]
    }
   ],
   "source": [
    "import pandas as pd\n",
    "import plotly.graph_objects as go\n",
    "import numpy as np\n",
    "\n",
    "# Chargement des données\n",
    "df = pd.read_csv(\"EURUSD_Candlestick_1_Hour_BID_04.05.2003-15.04.2023.csv\")\n",
    "df = df[df['volume'] != 0].reset_index(drop=True)\n",
    "df = df.head(5000)\n",
    "\n",
    "def detect_structure_points(df, window):\n",
    "    df['isPivotHigh'] = False\n",
    "    df['isPivotLow'] = False\n",
    "    last_pivot_type = None\n",
    "    last_pivot_index = 0\n",
    "\n",
    "    for i in range(window, len(df) - window):\n",
    "        current_high = df.iloc[i]['high']\n",
    "        current_low = df.iloc[i]['low']\n",
    "        max_high = max(df.iloc[i-window:i+window]['high'])\n",
    "        min_low = min(df.iloc[i-window:i+window]['low'])\n",
    "\n",
    "        # Vérifier si c'est un point haut\n",
    "        if current_high == max_high and last_pivot_type != 'high':\n",
    "            df.loc[i, 'isPivotHigh'] = True\n",
    "            last_pivot_type = 'high'\n",
    "            last_pivot_index = i\n",
    "\n",
    "        # Vérifier si c'est un point bas\n",
    "        elif current_low == min_low and last_pivot_type != 'low':\n",
    "            df.loc[i, 'isPivotLow'] = True\n",
    "            last_pivot_type = 'low'\n",
    "            last_pivot_index = i\n",
    "\n",
    "    return df\n",
    "\n",
    "# Détection des points de structure\n",
    "window = 3\n",
    "df = detect_structure_points(df, window)\n",
    "\n",
    "# Création des points de position\n",
    "df['pointpos'] = np.nan\n",
    "df.loc[df['isPivotHigh'], 'pointpos'] = df['high'] + 1e-3\n",
    "df.loc[df['isPivotLow'], 'pointpos'] = df['low'] - 1e-3\n",
    "\n",
    "# Afficher les bougies et les points pivots\n",
    "dfpl = df[300:450]\n",
    "fig = go.Figure(data=[go.Candlestick(x=dfpl.index,\n",
    "                open=dfpl['open'],\n",
    "                high=dfpl['high'],\n",
    "                low=dfpl['low'],\n",
    "                close=dfpl['close'])])\n",
    "\n",
    "# Ajouter les points de pivot au graphique\n",
    "fig.add_trace(go.Scatter(\n",
    "    x=dfpl[dfpl['isPivotHigh']].index,\n",
    "    y=dfpl[dfpl['isPivotHigh']]['pointpos'],\n",
    "    mode='markers',\n",
    "    marker=dict(size=10, color='red', symbol='circle'),\n",
    "    name='Pivot High'\n",
    "))\n",
    "\n",
    "fig.add_trace(go.Scatter(\n",
    "    x=dfpl[dfpl['isPivotLow']].index,\n",
    "    y=dfpl[dfpl['isPivotLow']]['pointpos'],\n",
    "    mode='markers',\n",
    "    marker=dict(size=10, color='green', symbol='circle'),\n",
    "    name='Pivot Low'\n",
    "))\n",
    "\n",
    "fig.show()\n",
    "\n",
    "# Affichage du nombre de points de structure identifiés\n",
    "print(f\"Nombre de points hauts de structure : {df['isPivotHigh'].sum()}\")\n",
    "print(f\"Nombre de points bas de structure : {df['isPivotLow'].sum()}\")"
   ]
  },
  {
   "cell_type": "code",
   "execution_count": 177,
   "metadata": {},
   "outputs": [
    {
     "ename": "NameError",
     "evalue": "name 'current_high' is not defined",
     "output_type": "error",
     "traceback": [
      "\u001b[1;31m---------------------------------------------------------------------------\u001b[0m",
      "\u001b[1;31mNameError\u001b[0m                                 Traceback (most recent call last)",
      "Cell \u001b[1;32mIn[177], line 1\u001b[0m\n\u001b[1;32m----> 1\u001b[0m \u001b[38;5;28;01mif\u001b[39;00m \u001b[43mcurrent_high\u001b[49m \u001b[38;5;241m==\u001b[39m max_high \u001b[38;5;129;01mand\u001b[39;00m last_pivot_type \u001b[38;5;241m!=\u001b[39m \u001b[38;5;124m'\u001b[39m\u001b[38;5;124mhigh\u001b[39m\u001b[38;5;124m'\u001b[39m:\n\u001b[0;32m      2\u001b[0m     \u001b[38;5;28;01mif\u001b[39;00m last_pivot_index \u001b[38;5;241m!=\u001b[39m \u001b[38;5;241m0\u001b[39m \u001b[38;5;129;01mand\u001b[39;00m df\u001b[38;5;241m.\u001b[39miloc[last_pivot_index][\u001b[38;5;124m'\u001b[39m\u001b[38;5;124mlow\u001b[39m\u001b[38;5;124m'\u001b[39m] \u001b[38;5;241m<\u001b[39m df\u001b[38;5;241m.\u001b[39miloc[i][\u001b[38;5;124m'\u001b[39m\u001b[38;5;124mlow\u001b[39m\u001b[38;5;124m'\u001b[39m] \u001b[38;5;129;01mand\u001b[39;00m df\u001b[38;5;241m.\u001b[39miloc[i][\u001b[38;5;124m'\u001b[39m\u001b[38;5;124mclose\u001b[39m\u001b[38;5;124m'\u001b[39m] \u001b[38;5;241m<\u001b[39m df\u001b[38;5;241m.\u001b[39miloc[i\u001b[38;5;241m-\u001b[39m\u001b[38;5;241m1\u001b[39m][\u001b[38;5;124m'\u001b[39m\u001b[38;5;124mclose\u001b[39m\u001b[38;5;124m'\u001b[39m]:\n\u001b[0;32m      3\u001b[0m         df\u001b[38;5;241m.\u001b[39mloc[i, \u001b[38;5;124m'\u001b[39m\u001b[38;5;124misPivotHigh\u001b[39m\u001b[38;5;124m'\u001b[39m] \u001b[38;5;241m=\u001b[39m \u001b[38;5;28;01mTrue\u001b[39;00m\n",
      "\u001b[1;31mNameError\u001b[0m: name 'current_high' is not defined"
     ]
    }
   ],
   "source": []
  },
  {
   "cell_type": "code",
   "execution_count": 162,
   "metadata": {},
   "outputs": [
    {
     "name": "stdout",
     "output_type": "stream",
     "text": [
      "0       False\n",
      "1       False\n",
      "2       False\n",
      "3       False\n",
      "4       False\n",
      "        ...  \n",
      "4995    False\n",
      "4996    False\n",
      "4997    False\n",
      "4998    False\n",
      "4999    False\n",
      "Name: isPivot, Length: 5000, dtype: bool\n"
     ]
    }
   ],
   "source": [
    "print(df['isPivot'] < 0) \n"
   ]
  }
 ],
 "metadata": {
  "kernelspec": {
   "display_name": "Python 3",
   "language": "python",
   "name": "python3"
  },
  "language_info": {
   "codemirror_mode": {
    "name": "ipython",
    "version": 3
   },
   "file_extension": ".py",
   "mimetype": "text/x-python",
   "name": "python",
   "nbconvert_exporter": "python",
   "pygments_lexer": "ipython3",
   "version": "3.13.0"
  }
 },
 "nbformat": 4,
 "nbformat_minor": 2
}
